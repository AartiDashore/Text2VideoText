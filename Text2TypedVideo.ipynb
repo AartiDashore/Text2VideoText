{
  "nbformat": 4,
  "nbformat_minor": 0,
  "metadata": {
    "colab": {
      "provenance": []
    },
    "kernelspec": {
      "name": "python3",
      "display_name": "Python 3"
    },
    "language_info": {
      "name": "python"
    }
  },
  "cells": [
    {
      "cell_type": "code",
      "source": [
        "import cv2\n",
        "import numpy as np\n",
        "from moviepy.editor import *\n",
        "\n",
        "def text_to_video(input_file, output_file):\n",
        "    # Read text content from the input file\n",
        "    with open(input_file, 'r') as f:\n",
        "        text_content = f.read()\n",
        "\n",
        "    # Define parameters for video creation\n",
        "    fps = 30\n",
        "    duration = len(text_content) // fps + 1\n",
        "    size = (640, 480)\n",
        "\n",
        "    # Initialize VideoClip with a function that returns a frame at time t\n",
        "    video_clip = VideoClip(make_frame=lambda t: text_frame(t, text_content, size),\n",
        "                           duration=duration)\n",
        "\n",
        "    # Write the video to the output file\n",
        "    video_clip.write_videofile(output_file, fps=fps)\n",
        "\n",
        "\n",
        "def text_frame(t, text_content, size):\n",
        "    # Create a blank frame with the specified size\n",
        "    frame = np.zeros((size[1], size[0], 3), dtype=np.uint8)\n",
        "\n",
        "    # Calculate the index of the text to be displayed based on time t\n",
        "    index = int(t * 30)  # Assuming 30 fps\n",
        "\n",
        "    # Add text to the frame\n",
        "    cv2.putText(frame, text_content[:index], (10, 50),\n",
        "                cv2.FONT_HERSHEY_SIMPLEX, 1, (255, 255, 255), 2)\n",
        "\n",
        "    return frame\n",
        "\n",
        "\n",
        "if __name__ == \"__main__\":\n",
        "    input_file = \"input.txt\"\n",
        "    output_file = \"output.mp4\"\n",
        "    text_to_video(input_file, output_file)\n"
      ],
      "metadata": {
        "colab": {
          "base_uri": "https://localhost:8080/"
        },
        "id": "TlbgxiM0GsQJ",
        "outputId": "407872a6-2eba-44b0-b0b2-e7db6e0f63f3"
      },
      "execution_count": 7,
      "outputs": [
        {
          "output_type": "stream",
          "name": "stdout",
          "text": [
            "Moviepy - Building video output.mp4.\n",
            "Moviepy - Writing video output.mp4\n",
            "\n"
          ]
        },
        {
          "output_type": "stream",
          "name": "stderr",
          "text": [
            "                                                           "
          ]
        },
        {
          "output_type": "stream",
          "name": "stdout",
          "text": [
            "Moviepy - Done !\n",
            "Moviepy - video ready output.mp4\n"
          ]
        },
        {
          "output_type": "stream",
          "name": "stderr",
          "text": [
            "\r"
          ]
        }
      ]
    }
  ]
}